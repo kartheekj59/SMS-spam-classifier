{
 "cells": [
  {
   "cell_type": "code",
   "execution_count": 1,
   "metadata": {},
   "outputs": [
    {
     "name": "stdout",
     "output_type": "stream",
     "text": [
      "[nltk_data] Downloading package wordnet to\n",
      "[nltk_data]     C:\\Users\\karth\\AppData\\Roaming\\nltk_data...\n",
      "[nltk_data]   Package wordnet is already up-to-date!\n",
      "[nltk_data] Downloading package stopwords to\n",
      "[nltk_data]     C:\\Users\\karth\\AppData\\Roaming\\nltk_data...\n",
      "[nltk_data]   Package stopwords is already up-to-date!\n"
     ]
    },
    {
     "data": {
      "text/plain": [
       "True"
      ]
     },
     "execution_count": 1,
     "metadata": {},
     "output_type": "execute_result"
    }
   ],
   "source": [
    "#NLP for SMS spam classification\n",
    "import numpy as np\n",
    "import pandas as pd\n",
    "import string\n",
    "import re\n",
    "import nltk\n",
    "nltk.download('wordnet')\n",
    "wn=nltk.WordNetLemmatizer()\n",
    "from nltk.corpus import stopwords\n",
    "nltk.download('stopwords')\n"
   ]
  },
  {
   "cell_type": "code",
   "execution_count": 2,
   "metadata": {},
   "outputs": [],
   "source": [
    "#Importing and segregating the data\n",
    "rawData=open('C:/Users/karth/Desktop/smsspamcollection/SMSSpamCollection').read()\n",
    "parsedData=rawData.replace('\\t','\\n').split('\\n')\n",
    "labelText=parsedData[0::2]\n",
    "textBody=parsedData[1::2]\n",
    "body=pd.DataFrame({'label':labelText[:-1],'body':textBody})\n"
   ]
  },
  {
   "cell_type": "code",
   "execution_count": 3,
   "metadata": {},
   "outputs": [],
   "source": [
    "#cleaning the data\n",
    "\n",
    "def clean(text):\n",
    "    text_with_no_punt=\"\".join([char for char in text if char not in string.punctuation])\n",
    "    tokenized_list=re.split('\\W+',text_with_no_punt.lower())\n",
    "    text_lemmed=[wn.lemmatize(word) for word in tokenized_list if word not in stopwords.words('english')]\n",
    "    return text_lemmed\n"
   ]
  },
  {
   "cell_type": "code",
   "execution_count": 4,
   "metadata": {},
   "outputs": [],
   "source": [
    "from sklearn.feature_extraction.text import TfidfVectorizer\n",
    "vect=TfidfVectorizer(analyzer=clean)\n",
    "X_vect=vect.fit_transform(body['body'])\n"
   ]
  },
  {
   "cell_type": "code",
   "execution_count": 5,
   "metadata": {},
   "outputs": [],
   "source": [
    "X_vect_df=pd.DataFrame(X_vect.toarray())\n"
   ]
  },
  {
   "cell_type": "code",
   "execution_count": 6,
   "metadata": {},
   "outputs": [],
   "source": [
    "body['body_len']=body['body'].apply(lambda x:len(x)-x.count(\" \"))"
   ]
  },
  {
   "cell_type": "code",
   "execution_count": 7,
   "metadata": {},
   "outputs": [],
   "source": [
    "def count_punc(text):\n",
    "    count=sum([1 for char in text if char in string.punctuation])\n",
    "    return round(count/(len(text)-text.count(\" \")),3)*100\n",
    "body['punt%']=body['body'].apply(lambda x:count_punc(x))"
   ]
  },
  {
   "cell_type": "code",
   "execution_count": 8,
   "metadata": {},
   "outputs": [],
   "source": [
    "X_features=pd.concat([body['body_len'],body['punt%'],pd.DataFrame(X_vect.toarray())],axis=1)\n"
   ]
  },
  {
   "cell_type": "code",
   "execution_count": 9,
   "metadata": {},
   "outputs": [],
   "source": [
    "from sklearn.ensemble import RandomForestClassifier\n",
    "from sklearn.model_selection import KFold,cross_val_score"
   ]
  },
  {
   "cell_type": "code",
   "execution_count": 10,
   "metadata": {},
   "outputs": [],
   "source": [
    "from sklearn.metrics import precision_recall_fscore_support as score\n",
    "from sklearn.model_selection import train_test_split\n",
    "\n",
    "\n",
    "X_train,X_test,Y_train,Y_test=train_test_split(X_features,body['label'],test_size=0.2)"
   ]
  },
  {
   "cell_type": "code",
   "execution_count": 11,
   "metadata": {},
   "outputs": [],
   "source": [
    "from sklearn.ensemble import RandomForestClassifier\n",
    "rf2=RandomForestClassifier(n_estimators=50,max_depth=20,n_jobs=-1)\n",
    "rf_model=rf2.fit(X_train,Y_train)"
   ]
  },
  {
   "cell_type": "code",
   "execution_count": 12,
   "metadata": {},
   "outputs": [
    {
     "data": {
      "text/plain": [
       "[(0.05511031155591332, 8953),\n",
       " (0.037023453789524326, 'body_len'),\n",
       " (0.035556801779936024, 2165),\n",
       " (0.0323641131327784, 1907),\n",
       " (0.028227100420839157, 5269),\n",
       " (0.02638583844892726, 8139),\n",
       " (0.02346364739884926, 7472),\n",
       " (0.021368094602246916, 2489),\n",
       " (0.02036624388347305, 3439),\n",
       " (0.016736151621019994, 6284),\n",
       " (0.01656279189644284, 690),\n",
       " (0.012937120001107704, 7989),\n",
       " (0.012672382776530194, 2332),\n",
       " (0.012442528390433536, 354),\n",
       " (0.011716965098505323, 294),\n",
       " (0.011535584267586796, 6604),\n",
       " (0.011156423737463894, 5569),\n",
       " (0.011047891490363648, 392),\n",
       " (0.010566000911126534, 1997),\n",
       " (0.00999523008973746, 295),\n",
       " (0.009572189132560917, 6950),\n",
       " (0.009537937206678707, 4676),\n",
       " (0.009152549962051096, 8621),\n",
       " (0.009098859441252913, 7786),\n",
       " (0.00882237004249403, 7724),\n",
       " (0.008278943258522898, 1262),\n",
       " (0.007898811535127117, 6686),\n",
       " (0.007674335212227451, 2854),\n",
       " (0.0075620338177978886, 2221),\n",
       " (0.007456834494211774, 1737),\n",
       " (0.007443948602758741, 4704),\n",
       " (0.007232905931617586, 5495),\n",
       " (0.007020970280834962, 611),\n",
       " (0.006218153663969654, 5972),\n",
       " (0.006050484510526896, 'punt%'),\n",
       " (0.006050008253299587, 8264),\n",
       " (0.0058075752929748784, 5203),\n",
       " (0.005759588430564975, 2632),\n",
       " (0.005646809091167514, 4801),\n",
       " (0.005540660029621856, 397),\n",
       " (0.005404950827772532, 8170),\n",
       " (0.005281746856605268, 8316),\n",
       " (0.005205037208161484, 438),\n",
       " (0.004931415589321966, 1421),\n",
       " (0.004901440516199531, 8532),\n",
       " (0.004897755093364147, 8261),\n",
       " (0.00489539351543552, 8233),\n",
       " (0.004865682522286494, 375),\n",
       " (0.004777262990318455, 8226),\n",
       " (0.004739252570218155, 3158)]"
      ]
     },
     "execution_count": 12,
     "metadata": {},
     "output_type": "execute_result"
    }
   ],
   "source": [
    "sorted(zip(rf_model.feature_importances_,X_train.columns),reverse=True)[0:50]"
   ]
  },
  {
   "cell_type": "code",
   "execution_count": 13,
   "metadata": {},
   "outputs": [],
   "source": [
    "y_pred=rf_model.predict(X_test)\n"
   ]
  },
  {
   "cell_type": "code",
   "execution_count": 18,
   "metadata": {},
   "outputs": [],
   "source": [
    "def train_RF(n_est,depth):\n",
    "    rforest=RandomForestClassifier(n_estimators=n_est,max_depth=depth,n_jobs=-1)\n",
    "    rf_model=rforest.fit(X_train,Y_train)\n",
    "    y_pred=rf_model.predict(X_test)\n",
    "    precision,recall,fscore,support=score(Y_test,y_pred,pos_label='spam',average='binary')\n",
    "    print(precision,recall,fscore)\n",
    "    "
   ]
  },
  {
   "cell_type": "code",
   "execution_count": 19,
   "metadata": {},
   "outputs": [
    {
     "name": "stdout",
     "output_type": "stream",
     "text": [
      "1.0 0.34615384615384615 0.5142857142857142\n",
      "0.9873417721518988 0.5 0.6638297872340426\n",
      "1.0 0.6474358974358975 0.7859922178988328\n",
      "0.9831932773109243 0.75 0.8509090909090908\n",
      "1.0 0.23717948717948717 0.38341968911917096\n",
      "1.0 0.5705128205128205 0.7265306122448979\n",
      "1.0 0.6474358974358975 0.7859922178988328\n",
      "1.0 0.7692307692307693 0.8695652173913044\n",
      "1.0 0.1987179487179487 0.3315508021390374\n",
      "1.0 0.5641025641025641 0.7213114754098361\n",
      "1.0 0.6794871794871795 0.8091603053435115\n",
      "1.0 0.7756410256410257 0.8736462093862817\n"
     ]
    }
   ],
   "source": [
    "for n_est in [10,50,100]:\n",
    "    for depth in [10,20,30,None]:\n",
    "        train_RF(n_est,depth)\n",
    "        "
   ]
  },
  {
   "cell_type": "code",
   "execution_count": null,
   "metadata": {},
   "outputs": [],
   "source": []
  }
 ],
 "metadata": {
  "kernelspec": {
   "display_name": "Python 3",
   "language": "python",
   "name": "python3"
  },
  "language_info": {
   "codemirror_mode": {
    "name": "ipython",
    "version": 3
   },
   "file_extension": ".py",
   "mimetype": "text/x-python",
   "name": "python",
   "nbconvert_exporter": "python",
   "pygments_lexer": "ipython3",
   "version": "3.6.5"
  }
 },
 "nbformat": 4,
 "nbformat_minor": 2
}
